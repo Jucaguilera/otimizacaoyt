{
  "cells": [
    {
      "cell_type": "markdown",
      "id": "fa3853fd",
      "metadata": {
        "id": "fa3853fd"
      },
      "source": [
        "# Otimização de Join com PySpark\n",
        "Este notebook apresenta todas as etapas do exercício de otimização de joins utilizando PySpark."
      ]
    },
    {
      "cell_type": "markdown",
      "id": "05a3d29e",
      "metadata": {
        "id": "05a3d29e"
      },
      "source": [
        "## Etapas 1 a 4: Leitura normal e Join simples com SQL"
      ]
    },
    {
      "cell_type": "code",
      "source": [
        "!pip install pyspark"
      ],
      "metadata": {
        "colab": {
          "base_uri": "https://localhost:8080/"
        },
        "id": "KBTQobVD4LBY",
        "outputId": "4fcec0a3-6372-4aa1-e4ca-b8a165bee195"
      },
      "id": "KBTQobVD4LBY",
      "execution_count": 1,
      "outputs": [
        {
          "output_type": "stream",
          "name": "stdout",
          "text": [
            "Requirement already satisfied: pyspark in /usr/local/lib/python3.11/dist-packages (3.5.1)\n",
            "Requirement already satisfied: py4j==0.10.9.7 in /usr/local/lib/python3.11/dist-packages (from pyspark) (0.10.9.7)\n"
          ]
        }
      ]
    },
    {
      "cell_type": "code",
      "execution_count": 6,
      "id": "a61ea9f4",
      "metadata": {
        "colab": {
          "base_uri": "https://localhost:8080/"
        },
        "id": "a61ea9f4",
        "outputId": "de4ac62e-561a-4450-c1e4-99900da068c4"
      },
      "outputs": [
        {
          "output_type": "stream",
          "name": "stdout",
          "text": [
            "+--------------------+-----------+------------+-------+-----+--------+------+-----------+----+-----+-------------+--------------------+--------------------+--------------------+-----------+--------------------+------------+-------+-----+--------+------+-----------+----+--------------------+---------+-------------+\n",
            "|               Title|   Video ID|Published At|Keyword|Likes|Comments| Views|Interaction|Year|Month|Keyword Index|        Features PCA|     Features Normal|            Features|   Video ID|               Title|Published At|Keyword|Likes|Comments| Views|Interaction|Year|             Comment|Sentiment|Likes Comment|\n",
            "+--------------------+-----------+------------+-------+-----+--------+------+-----------+----+-----+-------------+--------------------+--------------------+--------------------+-----------+--------------------+------------+-------+-----+--------+------+-----------+----+--------------------+---------+-------------+\n",
            "|Apple Pay Is Kill...|wAZZ-UWGVHI|  2022-08-23|   tech| 3407|     672|135612|     139691|2022|    8|         23.0|[0.5461641657286636]|[2.07229197864298...|[3407.0,135612.0,...|wAZZ-UWGVHI|Apple Pay Is Kill...|  2022-08-23|   tech| 3407|     672|135612|     139691|2022|Let's not forget ...|        1|           95|\n",
            "|Apple Pay Is Kill...|wAZZ-UWGVHI|  2022-08-23|   tech| 3407|     672|135612|     139691|2022|    8|         23.0|[0.5461641657286636]|[2.07229197864298...|[3407.0,135612.0,...|wAZZ-UWGVHI|Apple Pay Is Kill...|  2022-08-23|   tech| 3407|     672|135612|     139691|2022|Here in NZ 50% of...|        0|           19|\n",
            "|Apple Pay Is Kill...|wAZZ-UWGVHI|  2022-08-23|   tech| 3407|     672|135612|     139691|2022|    8|         23.0|[0.5461641657286636]|[2.07229197864298...|[3407.0,135612.0,...|wAZZ-UWGVHI|Apple Pay Is Kill...|  2022-08-23|   tech| 3407|     672|135612|     139691|2022|I will forever ac...|        2|          161|\n",
            "|Apple Pay Is Kill...|wAZZ-UWGVHI|  2022-08-23|   tech| 3407|     672|135612|     139691|2022|    8|         23.0|[0.5461641657286636]|[2.07229197864298...|[3407.0,135612.0,...|wAZZ-UWGVHI|Apple Pay Is Kill...|  2022-08-23|   tech| 3407|     672|135612|     139691|2022|Whenever I go to ...|        0|            8|\n",
            "|Apple Pay Is Kill...|wAZZ-UWGVHI|  2022-08-23|   tech| 3407|     672|135612|     139691|2022|    8|         23.0|[0.5461641657286636]|[2.07229197864298...|[3407.0,135612.0,...|wAZZ-UWGVHI|Apple Pay Is Kill...|  2022-08-23|   tech| 3407|     672|135612|     139691|2022|Apple Pay is so c...|        2|           34|\n",
            "+--------------------+-----------+------------+-------+-----+--------+------+-----------+----+-----+-------------+--------------------+--------------------+--------------------+-----------+--------------------+------------+-------+-----+--------+------+-----------+----+--------------------+---------+-------------+\n",
            "only showing top 5 rows\n",
            "\n"
          ]
        }
      ],
      "source": [
        "from pyspark.sql import SparkSession\n",
        "from pyspark.sql.functions import col\n",
        "\n",
        "spark = SparkSession.builder \\\n",
        "    .appName(\"OtimizacaoJoin\") \\\n",
        "    .getOrCreate()\n",
        "\n",
        "# 1 - Leitura do parquet de vídeos\n",
        "df_video = spark.read.parquet(\"videos-preparados.snappy.parquet\")\n",
        "\n",
        "# 2 - Leitura do parquet de comentários\n",
        "df_comments = spark.read.parquet(\"/content/videos-comments-tratados.snappy.parquet\")\n",
        "\n",
        "# 3 - Criar tabelas temporárias\n",
        "df_video.createOrReplaceTempView(\"videos\")\n",
        "df_comments.createOrReplaceTempView(\"comentarios\")\n",
        "\n",
        "# 4 - Join usando SQL\n",
        "join_video_comments = spark.sql(\"\"\"\n",
        "    SELECT *\n",
        "    FROM videos v\n",
        "    JOIN comentarios c\n",
        "    ON v.`Video ID` = c.`Video ID`\n",
        "\"\"\")\n",
        "\n",
        "\n",
        "join_video_comments.show(5)"
      ]
    },
    {
      "cell_type": "markdown",
      "id": "d74dcb05",
      "metadata": {
        "id": "d74dcb05"
      },
      "source": [
        "## Etapa 5: Utilizando repartition e coalesce"
      ]
    },
    {
      "cell_type": "code",
      "execution_count": 8,
      "id": "df488763",
      "metadata": {
        "colab": {
          "base_uri": "https://localhost:8080/"
        },
        "id": "df488763",
        "outputId": "62ca6666-8e1b-4054-b802-c64d03d03c90"
      },
      "outputs": [
        {
          "output_type": "stream",
          "name": "stdout",
          "text": [
            "+--------------------+-----------+------------+-------+------+--------+--------+-----------+----+-----+-------------+--------------------+--------------------+--------------------+-----------+--------------------+------------+-------+------+--------+--------+-----------+----+--------------------+---------+-------------+\n",
            "|               Title|   Video ID|Published At|Keyword| Likes|Comments|   Views|Interaction|Year|Month|Keyword Index|        Features PCA|     Features Normal|            Features|   Video ID|               Title|Published At|Keyword| Likes|Comments|   Views|Interaction|Year|             Comment|Sentiment|Likes Comment|\n",
            "+--------------------+-----------+------------+-------+------+--------+--------+-----------+----+-----+-------------+--------------------+--------------------+--------------------+-----------+--------------------+------------+-------+------+--------+--------+-----------+----+--------------------+---------+-------------+\n",
            "|How To Fix a Wate...|115amzVdV44|  2020-08-18| how-to|910553|   81975|52061447|   53053975|2020|    8|         19.0|[0.4576022250405602]|[0.05536777436388...|[910553.0,5.20614...|115amzVdV44|How To Fix a Wate...|  2020-08-18| how-to|910553|   81975|52061447|   53053975|2020|Please make anoth...|        1|        76769|\n",
            "|How To Fix a Wate...|115amzVdV44|  2020-08-18| how-to|910553|   81975|52061447|   53053975|2020|    8|         19.0|[0.4576022250405602]|[0.05536777436388...|[910553.0,5.20614...|115amzVdV44|How To Fix a Wate...|  2020-08-18| how-to|910553|   81975|52061447|   53053975|2020|I love how his vi...|        0|           48|\n",
            "|How To Fix a Wate...|115amzVdV44|  2020-08-18| how-to|910553|   81975|52061447|   53053975|2020|    8|         19.0|[0.4576022250405602]|[0.05536777436388...|[910553.0,5.20614...|115amzVdV44|How To Fix a Wate...|  2020-08-18| how-to|910553|   81975|52061447|   53053975|2020|The amount of eff...|        0|            4|\n",
            "|How To Fix a Wate...|115amzVdV44|  2020-08-18| how-to|910553|   81975|52061447|   53053975|2020|    8|         19.0|[0.4576022250405602]|[0.05536777436388...|[910553.0,5.20614...|115amzVdV44|How To Fix a Wate...|  2020-08-18| how-to|910553|   81975|52061447|   53053975|2020|Thank you! I was ...|        2|            8|\n",
            "|How To Fix a Wate...|115amzVdV44|  2020-08-18| how-to|910553|   81975|52061447|   53053975|2020|    8|         19.0|[0.4576022250405602]|[0.05536777436388...|[910553.0,5.20614...|115amzVdV44|How To Fix a Wate...|  2020-08-18| how-to|910553|   81975|52061447|   53053975|2020|I’m so glad I wat...|        2|            5|\n",
            "+--------------------+-----------+------------+-------+------+--------+--------+-----------+----+-----+-------------+--------------------+--------------------+--------------------+-----------+--------------------+------------+-------+------+--------+--------+-----------+----+--------------------+---------+-------------+\n",
            "only showing top 5 rows\n",
            "\n"
          ]
        }
      ],
      "source": [
        "# Reparticionar os dataframes\n",
        "df_video_rep = df_video.repartition(\"Video ID\")\n",
        "df_comments_rep = df_comments.repartition(\"Video ID\")\n",
        "\n",
        "# Criar views\n",
        "df_video_rep.createOrReplaceTempView(\"videos_rep\")\n",
        "df_comments_rep.createOrReplaceTempView(\"comentarios_rep\")\n",
        "\n",
        "# Join com dados reparticionados (usando crases por causa do espaço no nome da coluna)\n",
        "join_video_comments_rep = spark.sql(\"\"\"\n",
        "    SELECT *\n",
        "    FROM videos_rep v\n",
        "    JOIN comentarios_rep c\n",
        "    ON v.`Video ID` = c.`Video ID`\n",
        "\"\"\")\n",
        "\n",
        "# Coalesce para reduzir número de arquivos na escrita\n",
        "join_video_comments_rep = join_video_comments_rep.coalesce(1)\n",
        "join_video_comments_rep.show(5)\n"
      ]
    },
    {
      "cell_type": "markdown",
      "id": "f1096921",
      "metadata": {
        "id": "f1096921"
      },
      "source": [
        "## Etapas 6 e 7: Otimização real com seleção de colunas, filter e análise do plano de execução"
      ]
    },
    {
      "cell_type": "code",
      "execution_count": 13,
      "id": "65ee0422",
      "metadata": {
        "colab": {
          "base_uri": "https://localhost:8080/"
        },
        "id": "65ee0422",
        "outputId": "d5c39af1-d618-405c-9874-a99ef6935469"
      },
      "outputs": [
        {
          "output_type": "stream",
          "name": "stdout",
          "text": [
            "== Physical Plan ==\n",
            "AdaptiveSparkPlan isFinalPlan=false\n",
            "+- BroadcastHashJoin [Video ID#605], [Video ID#636], Inner, BuildLeft, false\n",
            "   :- BroadcastExchange HashedRelationBroadcastMode(List(input[0, string, true]),false), [plan_id=315]\n",
            "   :  +- Exchange hashpartitioning(Video ID#605, 200), REPARTITION_BY_COL, [plan_id=306]\n",
            "   :     +- Project [Video ID#605, Title#604, Published At#606]\n",
            "   :        +- Filter ((isnotnull(Published At#606) AND StartsWith(cast(Published At#606 as string), 2020)) AND isnotnull(Video ID#605))\n",
            "   :           +- FileScan parquet [Title#604,Video ID#605,Published At#606] Batched: true, DataFilters: [isnotnull(Published At#606), StartsWith(cast(Published At#606 as string), 2020), isnotnull(Video..., Format: Parquet, Location: InMemoryFileIndex(1 paths)[file:/content/videos-preparados.snappy.parquet], PartitionFilters: [], PushedFilters: [IsNotNull(`Published At`), IsNotNull(`Video ID`)], ReadSchema: struct<Title:string,Video ID:string,Published At:date>\n",
            "   +- Exchange hashpartitioning(Video ID#636, 200), REPARTITION_BY_COL, [plan_id=313]\n",
            "      +- Filter isnotnull(Video ID#636)\n",
            "         +- FileScan parquet [Video ID#636,Comment#645,Likes Comment#647] Batched: true, DataFilters: [isnotnull(Video ID#636)], Format: Parquet, Location: InMemoryFileIndex(1 paths)[file:/content/videos-comments-tratados.snappy.parquet], PartitionFilters: [], PushedFilters: [IsNotNull(`Video ID`)], ReadSchema: struct<Video ID:string,Comment:string,Likes Comment:int>\n",
            "\n",
            "\n"
          ]
        }
      ],
      "source": [
        "# 1. Leitura com seleção das colunas corretas\n",
        "df_video_opt = spark.read.parquet(\"videos-preparados.snappy.parquet\") \\\n",
        "    .select(\"Video ID\", \"Title\", \"Published At\")\n",
        "\n",
        "df_comments_opt = spark.read.parquet(\"/content/videos-comments-tratados.snappy.parquet\") \\\n",
        "    .select(\"Video ID\", \"Comment\", \"Likes Comment\")\n",
        "\n",
        "# 2. Filtrar apenas vídeos de 2020\n",
        "df_video_opt = df_video_opt.filter(col(\"Published At\").startswith(\"2020\"))\n",
        "\n",
        "# 3. Reparticionar\n",
        "df_video_opt = df_video_opt.repartition(\"Video ID\")\n",
        "df_comments_opt = df_comments_opt.repartition(\"Video ID\")\n",
        "\n",
        "# 4. Criar views temporárias\n",
        "df_video_opt.createOrReplaceTempView(\"videos_opt\")\n",
        "df_comments_opt.createOrReplaceTempView(\"comentarios_opt\")\n",
        "\n",
        "# 5. EXPLAIN - verificar o plano de execução\n",
        "spark.sql(\"\"\"\n",
        "    SELECT *\n",
        "    FROM videos_opt v\n",
        "    JOIN comentarios_opt c\n",
        "    ON v.`Video ID` = c.`Video ID`\n",
        "\"\"\").explain()\n",
        "\n"
      ]
    },
    {
      "cell_type": "code",
      "execution_count": 15,
      "id": "ee06c276",
      "metadata": {
        "colab": {
          "base_uri": "https://localhost:8080/"
        },
        "id": "ee06c276",
        "outputId": "d6c4c567-1003-47f0-b3db-13506a4b8505"
      },
      "outputs": [
        {
          "output_type": "stream",
          "name": "stdout",
          "text": [
            "+-----------+--------------------+--------------------+-------------+\n",
            "|   video_id|               title|             comment|likes_comment|\n",
            "+-----------+--------------------+--------------------+-------------+\n",
            "|115amzVdV44|How To Fix a Wate...|Please make anoth...|        76769|\n",
            "|115amzVdV44|How To Fix a Wate...|I love how his vi...|           48|\n",
            "|115amzVdV44|How To Fix a Wate...|The amount of eff...|            4|\n",
            "|115amzVdV44|How To Fix a Wate...|Thank you! I was ...|            8|\n",
            "|115amzVdV44|How To Fix a Wate...|I’m so glad I wat...|            5|\n",
            "+-----------+--------------------+--------------------+-------------+\n",
            "only showing top 5 rows\n",
            "\n"
          ]
        }
      ],
      "source": [
        "# Join otimizado final com nomes de colunas corretos\n",
        "join_otimizado = spark.sql(\"\"\"\n",
        "    SELECT\n",
        "        v.`Video ID` AS video_id,\n",
        "        v.`Title` AS title,\n",
        "        c.`Comment` AS comment,\n",
        "        c.`Likes Comment` AS likes_comment\n",
        "    FROM videos_opt v\n",
        "    JOIN comentarios_opt c\n",
        "    ON v.`Video ID` = c.`Video ID`\n",
        "\"\"\")\n",
        "\n",
        "join_otimizado.show(5)\n"
      ]
    },
    {
      "cell_type": "code",
      "execution_count": 16,
      "id": "63b16f43",
      "metadata": {
        "id": "63b16f43"
      },
      "outputs": [],
      "source": [
        "# Etapa 7 - Salvar o resultado otimizado\n",
        "join_otimizado.coalesce(1).write.mode(\"overwrite\").parquet(\"join-videos-comments-otimizado\")"
      ]
    },
    {
      "cell_type": "code",
      "source": [
        "# Encerra a SparkSession para liberar os recursos\n",
        "spark.stop()\n"
      ],
      "metadata": {
        "id": "HyrdTvUw4Puz"
      },
      "id": "HyrdTvUw4Puz",
      "execution_count": null,
      "outputs": []
    },
    {
      "cell_type": "markdown",
      "id": "d157a4f9",
      "metadata": {
        "id": "d157a4f9"
      },
      "source": [
        "## Etapa 8: Comentários sobre otimizações realizadas\n",
        "\n",
        "- **Selecionar apenas colunas necessárias** reduz o volume de dados processados.\n",
        "- **Filtro por data** garante que só os dados úteis sejam lidos e unidos.\n",
        "- **Repartition** melhora a performance do join, evitando shuffle desnecessário.\n",
        "- **Coalesce(1)** é usado antes de salvar o resultado para que apenas 1 arquivo parquet seja gerado, facilitando o uso futuro.\n",
        "- **EXPLAIN** permite ver se o Spark está otimizando o plano de execução, como pushdown de filtros e broadcast join.\n"
      ]
    }
  ],
  "metadata": {
    "colab": {
      "provenance": []
    },
    "language_info": {
      "name": "python"
    },
    "kernelspec": {
      "name": "python3",
      "display_name": "Python 3"
    }
  },
  "nbformat": 4,
  "nbformat_minor": 5
}